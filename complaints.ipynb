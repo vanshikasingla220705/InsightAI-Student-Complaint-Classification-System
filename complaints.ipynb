{
 "cells": [
  {
   "cell_type": "code",
   "execution_count": null,
   "metadata": {},
   "outputs": [
    {
     "ename": "ModuleNotFoundError",
     "evalue": "No module named 'flask'",
     "output_type": "error",
     "traceback": [
      "\u001b[1;31m---------------------------------------------------------------------------\u001b[0m",
      "\u001b[1;31mModuleNotFoundError\u001b[0m                       Traceback (most recent call last)",
      "Cell \u001b[1;32mIn[1], line 1\u001b[0m\n\u001b[1;32m----> 1\u001b[0m \u001b[38;5;28;01mfrom\u001b[39;00m \u001b[38;5;21;01mflask\u001b[39;00m \u001b[38;5;28;01mimport\u001b[39;00m Flask, request, render_template\n\u001b[0;32m      2\u001b[0m \u001b[38;5;28;01mimport\u001b[39;00m \u001b[38;5;21;01mpickle\u001b[39;00m\n\u001b[0;32m      3\u001b[0m \u001b[38;5;28;01mimport\u001b[39;00m \u001b[38;5;21;01mnumpy\u001b[39;00m \u001b[38;5;28;01mas\u001b[39;00m \u001b[38;5;21;01mnp\u001b[39;00m\n",
      "\u001b[1;31mModuleNotFoundError\u001b[0m: No module named 'flask'"
     ]
    }
   ],
   "source": [
    "import pandas as pd\n",
    "from sklearn.model_selection import train_test_split\n",
    "from sklearn.feature_extraction.text import TfidfVectorizer\n",
    "from sklearn.neighbors import KNeighborsClassifier\n",
    "from sklearn.metrics import classification_report, accuracy_score\n",
    "from sklearn.preprocessing import LabelEncoder\n",
    "\n",
    "# Load the dataset\n",
    "file_path = '/content/Datasetprojpowerbi.csv'\n",
    "dataset = pd.read_csv(file_path)\n",
    "\n",
    "# Encode the target variable ('Genre') for classification\n",
    "label_encoder = LabelEncoder()\n",
    "dataset['Genre_encoded'] = label_encoder.fit_transform(dataset['Genre'])\n",
    "\n",
    "# Prepare features and target\n",
    "X_text = dataset['Reports']  # complaint text data\n",
    "y = dataset['Genre_encoded']  # target variable (encoded genres)\n",
    "\n",
    "# Convert complaint text data to numerical features using TF-IDF vectorization\n",
    "tfidf_vectorizer = TfidfVectorizer(max_features=500)  # limit features to top 500 terms for simplicity\n",
    "X_text_tfidf = tfidf_vectorizer.fit_transform(X_text)\n",
    "\n",
    "# Split data into training and test sets\n",
    "X_train, X_test, y_train, y_test = train_test_split(X_text_tfidf, y, test_size=0.3, random_state=42)\n",
    "\n",
    "# Initialize and train K-Nearest Neighbors classifier\n",
    "knn = KNeighborsClassifier(n_neighbors=5)  # using k=5 neighbors as a starting point\n",
    "knn.fit(X_train, y_train)\n",
    "\n",
    "# Predict on the test set and evaluate the classifier\n",
    "y_pred = knn.predict(X_test)\n",
    "accuracy = accuracy_score(y_test, y_pred)\n",
    "report = classification_report(y_test, y_pred, target_names=label_encoder.classes_)\n",
    "\n",
    "# Print the results\n",
    "print(\"KNN Classifier Accuracy:\", accuracy)\n",
    "print(\"\\nClassification Report:\\n\", report)\n"
   ]
  },
  {
   "cell_type": "code",
   "execution_count": null,
   "metadata": {},
   "outputs": [],
   "source": [
    "import pandas as pd\n",
    "\n",
    "# Load the new dataset containing complaints\n",
    "new_file_path = '/content/Datasetprojpowerbi.csv'  # Path to the new CSV file\n",
    "new_complaints = pd.read_csv(new_file_path)\n",
    "\n",
    "# Transform the complaint text data to numerical features using the previously trained TF-IDF vectorizer\n",
    "X_new_text_tfidf = tfidf_vectorizer.transform(new_complaints['Reports'])\n",
    "\n",
    "# Predict classes for the new complaints\n",
    "new_complaints['Predicted_Genre'] = label_encoder.inverse_transform(knn.predict(X_new_text_tfidf))\n",
    "\n",
    "# Count the number of complaints for each class\n",
    "complaint_counts = new_complaints['Predicted_Genre'].value_counts()\n",
    "\n",
    "# Print the complaint counts\n",
    "print(\"Complaint counts per class:\")\n",
    "print(complaint_counts)"
   ]
  }
 ],
 "metadata": {
  "kernelspec": {
   "display_name": "Python 3",
   "language": "python",
   "name": "python3"
  },
  "language_info": {
   "codemirror_mode": {
    "name": "ipython",
    "version": 3
   },
   "file_extension": ".py",
   "mimetype": "text/x-python",
   "name": "python",
   "nbconvert_exporter": "python",
   "pygments_lexer": "ipython3",
   "version": "3.13.0"
  }
 },
 "nbformat": 4,
 "nbformat_minor": 2
}
